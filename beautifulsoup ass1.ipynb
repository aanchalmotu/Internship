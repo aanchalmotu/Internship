{
 "cells": [
  {
   "cell_type": "raw",
   "id": "546bab96",
   "metadata": {},
   "source": [
    "quesn 1 # Write a python programs to display all the headertags from wikipedia.org?"
   ]
  },
  {
   "cell_type": "code",
   "execution_count": null,
   "id": "3ddac8c7",
   "metadata": {},
   "outputs": [],
   "source": [
    "from bs4 import BeautifulSoup\n",
    "import requests\n",
    "url = \"https://en.wikipedia.org/wiki/Main_Page\"\n",
    "response = requests.get(url)\n",
    "soup = BeautifulSoup(response.text, 'html.parser')\n",
    "for header_tag in ['h1', 'h2', 'h3', 'h4', 'h5', 'h6']:\n",
    "    headers = soup.find_all(header_tag)\n",
    "    for header in headers:\n",
    "        print(header.text.strip())"
   ]
  },
  {
   "cell_type": "raw",
   "id": "644c75a8",
   "metadata": {},
   "source": [
    "quesn 2 # write a python program to display https://peachmode.com/search?q=bags ?"
   ]
  },
  {
   "cell_type": "code",
   "execution_count": null,
   "id": "8050521e",
   "metadata": {},
   "outputs": [],
   "source": [
    "from bs4 import BeautifulSoup\n",
    "import requests\n",
    "url = \"https://peachmode.com/search?q=bags\"\n",
    "response = requests.get(url)\n",
    "soup = BeautifulSoup(response.text, 'html.parser')\n",
    "print(soup.get_text())\n"
   ]
  },
  {
   "cell_type": "raw",
   "id": "96e7eb14",
   "metadata": {},
   "source": [
    "quesn 3# Write a python program to scrape mentioned details from dineout.co.in : i) Restaurant name \n",
    "ii) Cuisine iii) Location iv) Ratings v) Image URL."
   ]
  },
  {
   "cell_type": "code",
   "execution_count": null,
   "id": "c05b3935",
   "metadata": {},
   "outputs": [],
   "source": [
    "import requests\n",
    "from bs4 import BeautifulSoup\n",
    "\n",
    "url = \"https://www.dineout.co.in/delhi-restaurants\"\n",
    "response = requests.get(url)\n",
    "\n",
    "if response.status_code == 200:\n",
    "    soup = BeautifulSoup(response.text, 'html.parser')\n",
    "   for restaurant in soup.find_all('div', class_='restnt-info cursor'):\n",
    "    name = restaurant.text\n",
    "     cuisine = restaurant.find_next('div', class_='double-line-ellipsis').text\n",
    "     location = restaurant.find_next('div', class_='restnt-loc ellipsis').text\n",
    "     rating = restaurant.find_next('span', class_='rat color-2').text\n",
    "     image_url = restaurant.find_next('img', class_='no-img')['data-original']\n",
    "        \n",
    "     print(f\"Restaurant Name: {name}\")\n",
    "    print(f\"Cuisine: {cuisine}\")\n",
    "    print(f\"Location: {location}\")\n",
    "    print(f\"Ratings: {rating}\")\n",
    "   print(f\"Image URL: {image_url}\")\n",
    "   print(\"\\n\")\n",
    "\n"
   ]
  },
  {
   "cell_type": "raw",
   "id": "178cb8bc",
   "metadata": {},
   "source": [
    "quesn 4# Write s python program to display list of respected former finance minister of India(i.e. \n",
    "Name , Term of office) from https://presidentofindia.nic.in/former-presidents.htm and make \n",
    "data frame."
   ]
  },
  {
   "cell_type": "code",
   "execution_count": 1,
   "id": "2d5c4678",
   "metadata": {},
   "outputs": [],
   "source": [
    "import requests\n",
    "from bs4 import BeautifulSoup\n",
    "import pandas as pd\n",
    "\n",
    "url = \"https://presidentofindia.nic.in/former-presidents.htm\"\n",
    "response = requests.get(url)\n",
    "\n",
    "if response.ok:\n",
    "    soup = BeautifulSoup(response.text, 'html.parser')\n",
    "    names = [name.text.strip() for name in soup.select('td.column-1')]\n",
    "    terms_of_office = [term.text.strip() for term in soup.select('td.column-2')]\n",
    "    df = pd.DataFrame({'Name': names, 'Term of Office': terms_of_office})\n",
    "    print(df)\n"
   ]
  }
 ],
 "metadata": {
  "kernelspec": {
   "display_name": "Python 3 (ipykernel)",
   "language": "python",
   "name": "python3"
  },
  "language_info": {
   "codemirror_mode": {
    "name": "ipython",
    "version": 3
   },
   "file_extension": ".py",
   "mimetype": "text/x-python",
   "name": "python",
   "nbconvert_exporter": "python",
   "pygments_lexer": "ipython3",
   "version": "3.11.3"
  }
 },
 "nbformat": 4,
 "nbformat_minor": 5
}
