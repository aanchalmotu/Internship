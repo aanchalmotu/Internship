{
 "cells": [
  {
   "cell_type": "markdown",
   "id": "9c823b46",
   "metadata": {},
   "source": [
    "Q1: In this question you have to scrape data using the filters available on the webpage You have to use the location and \n",
    "salary filter. \n",
    "You have to scrape data for “Data Scientist” designation for first 10 job results. \n",
    "You have to scrape the job-title, job-location, company name, experience required. \n",
    "The location filter to be used is “Delhi/NCR”. The salary filter to be used is “3-6” lakhs \n",
    "The task will be done as shown in the below steps: \n",
    "1. first get the web page https://www.naukri.com/\n",
    "2. Enter “Data Scientist” in “Skill, Designations, and Companies” field. \n",
    "3. Then click the search button. \n",
    "4. Then apply the location filter and salary filter by checking the respective boxes \n",
    "5. Then scrape the data for the first 10 jobs results you get. \n",
    "6. Finally create a dataframe of the scraped data."
   ]
  },
  {
   "cell_type": "code",
   "execution_count": null,
   "id": "024ea26a",
   "metadata": {},
   "outputs": [],
   "source": [
    "\n",
    "!pip install selenium pandas\n",
    "import selenium\n",
    "import pandas as pd\n",
    "from selenium import webdriver\n",
    "from selenium.webdriver.common.keys import Keys\n",
    "from selenium.webdriver.common.by import By\n",
    "import time\n",
    "import warnings\n",
    "warnings.filterwarnings('ignore')\n"
   ]
  },
  {
   "cell_type": "code",
   "execution_count": null,
   "id": "94045b2b",
   "metadata": {},
   "outputs": [],
   "source": [
    "\n",
    "options = webdriver.ChromeOptions()\n",
    "options.add_argument('--ignore-certificate-errors')\n",
    "options.add_argument('--incognito')\n",
    "driver = webdriver.Chrome(options=options)\n",
    "driver.get(\"https://www.naukri.com/\")\n",
    "time.sleep(2)\n"
   ]
  },
  {
   "cell_type": "code",
   "execution_count": null,
   "id": "de393189",
   "metadata": {},
   "outputs": [],
   "source": [
    "# Enter \"Data Scientist\" in search field and click search button\n",
    "search_field = driver.find_element_by_id(\"qsb-keyword-sugg\")\n",
    "search_field.send_keys(\"Data Scientist\")\n",
    "search_field.send_keys(Keys.RETURN)\n",
    "time.sleep(2)\n"
   ]
  },
  {
   "cell_type": "code",
   "execution_count": null,
   "id": "d5690aa5",
   "metadata": {},
   "outputs": [],
   "source": [
    "location_filter = driver.find_element_by_xpath(\"//span[@title='Delhi / NCR']\")\n",
    "location_filter.click()\n",
    "time.sleep(2)\n",
    "salary_filter = driver.find_element_by_xpath(\"//span[@title='3-6 Lakhs']\")\n",
    "salary_filter.click()\n",
    "time.sleep(2)\n"
   ]
  },
  {
   "cell_type": "code",
   "execution_count": null,
   "id": "e6622008",
   "metadata": {},
   "outputs": [],
   "source": [
    "job_titles = []\n",
    "job_locations = []\n",
    "company_names = []\n",
    "experiences = []\n",
    "\n",
    "job_results = driver.find_elements_by_css_selector(\".jobTuple.bgWhite.br4.mb-8\")\n",
    "for job in job_results[:10]:\n",
    "    title = job.find_element_by_css_selector(\".title.fw500.ellipsis\").text\n",
    "    location = job.find_element_by_css_selector(\".fleft.grey-text.br2.placeHolderLi.location\").text\n",
    "    company = job.find_element_by_css_selector(\".fleft.grey-text.br2.placeHolderLi.company\").text\n",
    "    experience = job.find_element_by_css_selector(\".fleft.grey-text.br2.placeHolderLi.experience\").text\n",
    "\n",
    "       job_titles.append(title)\n",
    "    job_locations.append(location)\n",
    "          company_names.append(company)\n",
    "         experiences.append(experience)\n"
   ]
  },
  {
   "cell_type": "code",
   "execution_count": null,
   "id": "9391167e",
   "metadata": {},
   "outputs": [],
   "source": [
    "df = pd.DataFrame({\n",
    "    'Job Title': job_titles,\n",
    "    'Job Location': job_locations,\n",
    "    'Company Name': company_names,\n",
    "    'Experience Required': experiences\n",
    "})\n",
    "\n",
    "print(df)\n",
    "driver.quit()\n"
   ]
  },
  {
   "cell_type": "markdown",
   "id": "7040aa91",
   "metadata": {},
   "source": [
    "Q2: Write a python program to scrape data for “Data Scientist” Job position in “Bangalore” location. You have to scrape the \n",
    "job-title, job-location, company_name, experience_required. You have to scrape first 10 jobs data.\n",
    "This task will be done in following steps:\n",
    "1. First get the webpage https://www.shine.com/\n",
    "2. Enter “Data Analyst” in “Job title, Skills” field and enter “Bangalore” in “enter the location” field.\n",
    "3. Then click the searchbutton. \n",
    "4. Then scrape the data for the first 10 jobs results you get. \n",
    "5. Finally create a dataframe of the scraped data."
   ]
  },
  {
   "cell_type": "code",
   "execution_count": null,
   "id": "ebce6eb8",
   "metadata": {},
   "outputs": [],
   "source": [
    "!pip install selenium pandas\n",
    "import selenium\n",
    "import pandas as pd\n",
    "from selenium import webdriver\n",
    "from selenium.webdriver.common.by import By\n",
    "import warnings\n",
    "\n",
    "warnings.filterwarnings('ignore')"
   ]
  },
  {
   "cell_type": "code",
   "execution_count": null,
   "id": "6f953531",
   "metadata": {},
   "outputs": [],
   "source": [
    "options = webdriver.ChromeOptions()\n",
    "options.add_argument('--ignore-certificate-errors')\n",
    "options.add_argument('--incognito')\n",
    "driver = webdriver.Chrome(options=options\n",
    "driver.get(\"https://www.shine.com/\")\n",
    "\n"
   ]
  },
  {
   "cell_type": "code",
   "execution_count": null,
   "id": "8e3a81ce",
   "metadata": {},
   "outputs": [],
   "source": [
    "job_title_field = driver.find_element_by_id(\"qsb-keyskill-sugg\")\n",
    "job_title_field.send_keys(\"Data Scientist\")\n",
    "location_field = driver.find_element_by_id(\"qsb-location-sugg\")\n",
    "location_field.send_keys(\"Bangalore\")\n",
    "search_button = driver.find_element_by_class_name(\"srch-btn\")\n",
    "search_button.click()\n",
    "time.sleep(2)\n"
   ]
  },
  {
   "cell_type": "code",
   "execution_count": null,
   "id": "d64a54ee",
   "metadata": {},
   "outputs": [],
   "source": [
    "job_titles = []\n",
    "job_locations = []\n",
    "company_names = []\n",
    "experiences = []\n",
    "\n",
    "job_results = driver.find_elements_by_class_name(\"result-display\")\n",
    "for job in job_results[:10]:\n",
    "    title = job.find_element_by_class_name(\"job-title\").text\n",
    "    location = job.find_element_by_class_name(\"job-location\").text\n",
    "    company = job.find_element_by_class_name(\"company-name\").text\n",
    "    experience = job.find_element_by_class_name(\"job-expiry\").text.split(\"Exp\")[0].strip()\n",
    "\n",
    "    job_titles.append(title)\n",
    "    job_locations.append(location)\n",
    "    company_names.append(company)\n",
    "    experiences.append(experience)\n"
   ]
  },
  {
   "cell_type": "code",
   "execution_count": null,
   "id": "5321967a",
   "metadata": {},
   "outputs": [],
   "source": [
    "df = pd.DataFrame({\n",
    "    'Job Title': job_titles,\n",
    "    'Job Location': job_locations,\n",
    "    'Company Name': company_names,\n",
    "    'Experience Required': experiences\n",
    "})\n",
    "\n",
    "\n",
    "print(df)\n",
    "\n",
    "driver.quit()\n"
   ]
  },
  {
   "cell_type": "markdown",
   "id": "80136c25",
   "metadata": {},
   "source": [
    "Q4: Scrape data forfirst 100 sneakers you find whenyouvisitflipkart.com and search for “sneakers” inthe search\n",
    "field.\n",
    "You have to scrape 3 attributes of each sneaker:\n",
    "1. Brand\n",
    "2. ProductDescription\n",
    "3. Price"
   ]
  },
  {
   "cell_type": "code",
   "execution_count": null,
   "id": "26f19b65",
   "metadata": {},
   "outputs": [],
   "source": [
    "!pip install selenium pandas\n",
    "import selenium\n",
    "import pandas as pd\n",
    "from selenium import webdriver\n",
    "from selenium.webdriver.common.by import By\n",
    "import warnings\n",
    "\n",
    "warnings.filterwarnings('ignore')\n",
    "\n"
   ]
  },
  {
   "cell_type": "code",
   "execution_count": null,
   "id": "b76b6b1a",
   "metadata": {},
   "outputs": [],
   "source": [
    "options = webdriver.ChromeOptions()\n",
    "options.add_argument('--ignore-certificate-errors')\n",
    "options.add_argument('--incognito')\n",
    "driver = webdriver.Chrome(options=options)\n",
    "driver.get(\"https://www.flipkart.com/\")\n",
    "\n"
   ]
  },
  {
   "cell_type": "code",
   "execution_count": null,
   "id": "178e6b91",
   "metadata": {},
   "outputs": [],
   "source": [
    "search_bar = driver.find_element_by_name(\"q\")\n",
    "search_bar.send_keys(\"sneakers\")\n",
    "search_bar.submit()\n",
    "time.sleep(2)\n",
    "filter_button = driver.find_element_by_xpath(\"//div[@title='Men']//preceding-sibling::div[@title='Footwear']\")\n",
    "filter_button.click()\n",
    "\n"
   ]
  },
  {
   "cell_type": "code",
   "execution_count": null,
   "id": "7da24b4e",
   "metadata": {},
   "outputs": [],
   "source": [
    "# Scrape data for the first 100 sneakers\n",
    "sneakers_data = []\n",
    "\n",
    "while len(sneakers_data) < 100:\n",
    "    sneakers = driver.find_elements_by_class_name(\"_1fQZEK\")\n",
    "    \n",
    "    for sneaker in sneakers:\n",
    "        try:\n",
    "            brand = sneaker.find_element_by_class_name(\"_2WkVRV\").text\n",
    "            description = sneaker.find_element_by_class_name(\"_2B099V\").text\n",
    "            price = sneaker.find_element_by_class_name(\"_30jeq3\").text\n",
    "\n",
    "            sneakers_data.append({\n",
    "                \"Brand\": brand,\n",
    "                \"Description\": description,\n",
    "                \"Price\": price\n",
    "            })\n",
    "        except:\n",
    "        pass\n",
    "    driver.execute_script(\"window.scrollTo(0, document.body.scrollHeight);\")\n",
    "    \n"
   ]
  },
  {
   "cell_type": "code",
   "execution_count": null,
   "id": "a85e1469",
   "metadata": {},
   "outputs": [],
   "source": [
    "# Create DataFrame\n",
    "df = pd.DataFrame(sneakers_data)\n",
    "\n",
    "# Display the DataFrame\n",
    "print(df)\n"
   ]
  },
  {
   "cell_type": "markdown",
   "id": "5aaea76a",
   "metadata": {},
   "source": [
    "Q5: Go to webpage https://www.amazon.in/ Enter “Laptop” in the search field and then click the search icon. Then set CPU\n",
    "Type filter to “Intel Core i7” as shown in the below image:\n",
    "Aftersetting the filters scrape first 10 laptops data. You have to scrape 3 attributes for each laptop:\n",
    "1. Title\n",
    "2. Ratings\n",
    "3. Price"
   ]
  },
  {
   "cell_type": "code",
   "execution_count": null,
   "id": "78ce94ad",
   "metadata": {},
   "outputs": [],
   "source": [
    "!pip install selenium pandas\n",
    "import selenium\n",
    "import pandas as pd\n",
    "from selenium import webdriver\n",
    "from selenium.webdriver.common.by import By\n",
    "import warnings\n",
    "\n",
    "warnings.filterwarnings('ignore')"
   ]
  },
  {
   "cell_type": "code",
   "execution_count": null,
   "id": "ffcc1bcf",
   "metadata": {},
   "outputs": [],
   "source": [
    "options = webdriver.ChromeOptions()\n",
    "options.add_argument('--ignore-certificate-errors')\n",
    "options.add_argument('--incognito')\n",
    "driver = webdriver.Chrome(options=options)\n",
    "driver.get(\"https://www.amazon.in/\")\n"
   ]
  },
  {
   "cell_type": "code",
   "execution_count": null,
   "id": "9ff8a896",
   "metadata": {},
   "outputs": [],
   "source": [
    "search_field = driver.find_element_by_id(\"twotabsearchtextbox\")\n",
    "search_field.send_keys(\"Laptop\")\n",
    "search_icon = driver.find_element_by_xpath(\"//input[@value='Go']\")\n",
    "search_icon.click()\n"
   ]
  },
  {
   "cell_type": "code",
   "execution_count": null,
   "id": "3e147a40",
   "metadata": {},
   "outputs": [],
   "source": [
    "cpu_filter = driver.find_element_by_xpath(\"//li[@aria-label='Intel Core i7']//a\")\n",
    "cpu_filter.click()\n"
   ]
  },
  {
   "cell_type": "code",
   "execution_count": null,
   "id": "3c0d5457",
   "metadata": {},
   "outputs": [],
   "source": [
    "laptop_data = []\n",
    "laptops = driver.find_elements_by_xpath(\"//div[@data-component-type='s-search-result']\")\n",
    "for laptop in laptops[:10]:\n",
    "        title = laptop.find_element_by_class_name(\"a-text-normal\").text\n",
    "        ratings = laptop.find_element_by_class_name(\"a-icon-star-small\").get_attribute(\"aria-label\")\n",
    "        price = laptop.find_element_by_class_name(\"a-price-whole\").text\n",
    "\n",
    " laptop_data.append({\n",
    "    \"Title\": title,\n",
    "\"Ratings\": ratings,\n",
    "\"Price\": price\n",
    "        })\n",
    "    except:\n",
    "        pass\n"
   ]
  },
  {
   "cell_type": "code",
   "execution_count": null,
   "id": "bb6ee4b3",
   "metadata": {},
   "outputs": [],
   "source": [
    "df = pd.DataFrame(laptop_data)\n",
    "print(df)\n"
   ]
  },
  {
   "cell_type": "markdown",
   "id": "2cc712af",
   "metadata": {},
   "source": [
    "Q6: Write a python program to scrape data for Top 1000 Quotes of All Time.\n",
    "The above task will be done in following steps:\n",
    "1. First get the webpagehttps://www.azquotes.com/\n",
    "2. Click on TopQuote\n",
    "3. Than scrap a)Quote b) Author c) Type Of Quotes"
   ]
  },
  {
   "cell_type": "code",
   "execution_count": null,
   "id": "a000d453",
   "metadata": {},
   "outputs": [],
   "source": [
    "!pip install selenium pandas\n",
    "import selenium\n",
    "import pandas as pd\n",
    "from selenium import webdriver\n",
    "from selenium.webdriver.common.by import By\n",
    "import warnings\n",
    "\n",
    "warnings.filterwarnings('ignore')\n",
    "\n"
   ]
  },
  {
   "cell_type": "code",
   "execution_count": null,
   "id": "fd12f321",
   "metadata": {},
   "outputs": [],
   "source": [
    "driver.get(\"https://www.azquotes.com/\")\n",
    "top_quotes_button = driver.find_element(By.XPATH, \"//a[contains(text(),'Top Quotes')]\")\n",
    "top_quotes_button.click()\n",
    "driver.find_element(By.CLASS_NAME, \"wrap-blockquote\")\n"
   ]
  },
  {
   "cell_type": "code",
   "execution_count": null,
   "id": "2f5a545b",
   "metadata": {},
   "outputs": [],
   "source": [
    "quotes = []\n",
    "quote_elements = driver.find_elements(By.XPATH, \"//div[@class='wrap-blockquote']/blockquote/p\")\n",
    "for quote_element in quote_elements:\n",
    "    quotes.append(quote_element.text)\n"
   ]
  },
  {
   "cell_type": "code",
   "execution_count": null,
   "id": "33501adc",
   "metadata": {},
   "outputs": [],
   "source": [
    "authors = []\n",
    "author_elements = driver.find_elements(By.XPATH, \"//div[@class='wrap-blockquote']/div[@class='author']//a\")\n",
    "for author_element in author_elements:\n",
    "    authors.append(author_element.text)\n"
   ]
  },
  {
   "cell_type": "code",
   "execution_count": null,
   "id": "6fdbcc4b",
   "metadata": {},
   "outputs": [],
   "source": [
    "types = []\n",
    "type_elements = driver.find_elements(By.XPATH, \"//div[@class='wrap-blockquote']/div[@class='grid-row']//span[@class='small']\")\n",
    "for type_element in type_elements:\n",
    "    types.append(type_element.text)\n"
   ]
  },
  {
   "cell_type": "code",
   "execution_count": null,
   "id": "82c95b82",
   "metadata": {},
   "outputs": [],
   "source": [
    "for i in range(len(quotes)):\n",
    "    print(\"Quote:\", quotes[i])\n",
    "    print(\"Author:\", authors[i])\n",
    "    print(\"Type of Quote:\", types[i])\n",
    "    print()\n"
   ]
  },
  {
   "cell_type": "code",
   "execution_count": null,
   "id": "164aabd7",
   "metadata": {},
   "outputs": [],
   "source": [
    "driver.quit()\n"
   ]
  },
  {
   "cell_type": "markdown",
   "id": "9384cb76",
   "metadata": {},
   "source": [
    "Q7: Write a python program to display list of respected former Prime Ministers of India (i.e. Name,\n",
    "Born-Dead, Term of office, Remarks) from https://www.jagranjosh.com/general-knowledge/list-of\u0002all-prime-ministers-of-india-1473165149-1\n",
    "scrap the mentioned data and make the DataFrame"
   ]
  },
  {
   "cell_type": "code",
   "execution_count": null,
   "id": "ba8911cd",
   "metadata": {},
   "outputs": [],
   "source": [
    "!pip install selenium pandas\n",
    "import selenium\n",
    "import pandas as pd\n",
    "from selenium import webdriver\n",
    "from selenium.webdriver.common.by import By\n",
    "import warnings\n",
    "\n",
    "warnings.filterwarnings('ignore')"
   ]
  },
  {
   "cell_type": "code",
   "execution_count": null,
   "id": "b171783f",
   "metadata": {},
   "outputs": [],
   "source": [
    "driver = webdriver.Chrome()\n",
    "url = \"https://www.jagranjosh.com/general-knowledge/list-of-all-prime-ministers-of-india-1473165149-1\"\n",
    "driver.get(url)\n"
   ]
  },
  {
   "cell_type": "code",
   "execution_count": null,
   "id": "d36fa44b",
   "metadata": {},
   "outputs": [],
   "source": [
    "table = driver.find_element(By.CLASS_NAME, \"table\")\n",
    "rows = table.find_elements(By.TAG_NAME, \"tr\")\n",
    "prime_ministers = []\n",
    "for row in rows[1:]:  \n",
    "    cols = row.find_elements(By.TAG_NAME, \"td\")\n",
    "    prime_minister = {\n",
    "        \"Name\": cols[0].text.strip(),\n",
    "        \"Born-Dead\": cols[1].text.strip(),\n",
    "        \"Term of office\": cols[2].text.strip(),\n",
    "        \"Remarks\": cols[3].text.strip()\n",
    "    }\n",
    "    prime_ministers.append(prime_minister)\n"
   ]
  },
  {
   "cell_type": "code",
   "execution_count": null,
   "id": "db8a1bd8",
   "metadata": {},
   "outputs": [],
   "source": [
    "df = pd.DataFrame(prime_ministers)\n"
   ]
  },
  {
   "cell_type": "code",
   "execution_count": null,
   "id": "87a38fe4",
   "metadata": {},
   "outputs": [],
   "source": [
    "df\n",
    "driver.quit()\n"
   ]
  },
  {
   "cell_type": "markdown",
   "id": "aac32627",
   "metadata": {},
   "source": [
    "Q8: Write a python program to display list of 50 Most expensive cars in the world\n",
    "(i.e. Car name and Price) from https://www.motor1.com/\n",
    "This task will be done in following steps:\n",
    "1. First get the webpage https://www.motor1.com/\n",
    "2. Then You have to type in the search bar ’50 most expensive cars’\n",
    "3. Then click on 50 most expensive carsin the world..\n",
    "4. Then scrap thementioned data and make the dataframe."
   ]
  },
  {
   "cell_type": "code",
   "execution_count": null,
   "id": "c2ebe56e",
   "metadata": {},
   "outputs": [],
   "source": [
    "!pip install selenium pandas\n",
    "import selenium\n",
    "import pandas as pd\n",
    "from selenium import webdriver\n",
    "from selenium.webdriver.common.by import By\n",
    "import warnings\n",
    "\n",
    "warnings.filterwarnings('ignore')"
   ]
  },
  {
   "cell_type": "code",
   "execution_count": null,
   "id": "9c57e0c3",
   "metadata": {},
   "outputs": [],
   "source": [
    "driver = webdriver.Chrome()\n"
   ]
  },
  {
   "cell_type": "code",
   "execution_count": null,
   "id": "5962a4f9",
   "metadata": {},
   "outputs": [],
   "source": [
    "driver.get(\"https://www.motor1.com/\")\n"
   ]
  },
  {
   "cell_type": "code",
   "execution_count": null,
   "id": "c1b8ed13",
   "metadata": {},
   "outputs": [],
   "source": [
    "search_input = driver.find_element(By.NAME, \"q\")\n",
    "search_input.send_keys(\"50 most expensive cars\")\n",
    "search_input.submit()\n",
    "expensive_cars_link = WebDriverWait(driver, 10).until(EC.element_to_be_clickable((By.XPATH, \"//a[contains(text(),'50 most expensive cars in the world')]\")))\n",
    "expensive_cars_link.click()\n"
   ]
  },
  {
   "cell_type": "code",
   "execution_count": null,
   "id": "62fe6b9a",
   "metadata": {},
   "outputs": [],
   "source": [
    "cars = []\n",
    "car_elements = driver.find_elements(By.XPATH, \"//div[@class='item-listing']/div[@class='info']/h2\")\n",
    "price_elements = driver.find_elements(By.XPATH, \"//div[@class='item-listing']/div[@class='info']/span[@class='price']\")\n",
    "for car, price in zip(car_elements, price_elements):\n",
    "    cars.append({\n",
    "        \"Car name\": car.text.strip(),\n",
    "        \"Price\": price.text.strip()\n",
    "    })\n"
   ]
  },
  {
   "cell_type": "code",
   "execution_count": null,
   "id": "d48524d0",
   "metadata": {},
   "outputs": [],
   "source": [
    "df = pd.DataFrame(cars)\n",
    "df\n"
   ]
  },
  {
   "cell_type": "code",
   "execution_count": null,
   "id": "c1d81934",
   "metadata": {},
   "outputs": [],
   "source": [
    "driver.quit()\n"
   ]
  },
  {
   "cell_type": "markdown",
   "id": "b938ceee",
   "metadata": {},
   "source": [
    "Q3: Scrape 100 reviews data from flipkart.com for iphone11 phone. You have to go the link:"
   ]
  },
  {
   "cell_type": "code",
   "execution_count": null,
   "id": "a1948aa6",
   "metadata": {},
   "outputs": [],
   "source": [
    "!pip install selenium pandas\n",
    "import selenium\n",
    "import pandas as pd\n",
    "from selenium import webdriver\n",
    "from selenium.webdriver.common.by import By\n",
    "import warnings\n",
    "\n",
    "warnings.filterwarnings('ignore')"
   ]
  },
  {
   "cell_type": "code",
   "execution_count": null,
   "id": "958d5b52",
   "metadata": {},
   "outputs": [],
   "source": [
    "driver = webdriver.Chrome()\n",
    "url = \"https://www.flipkart.com/apple-iphone-15-black-128-gb/p/itm6ac6485515ae4?pid=MOBGTAGPTB3VS24W&lid=LSTMOBGTAGPTB3VS24WVZNSC6&marketplace=FLIPKART&q=iphone+15&store=tyy/4io&srno=s_1_2&otracker=AS_QueryStore_OrganicAutoSuggest_1_2_na_na_na&otracker1=AS_QueryStore_OrganicAutoSuggest_1_2_na_na_na&fm=organic&iid=b596c120-8114-44e8-9819-0b4dee130fa9.MOBGTAGPTB3VS24W.SEARCH&ppt=hp&ppn=homepage&ssid=s3c8i7dsvk0000001710403029549&qH=2f54b45b321e3ae5\"\n",
    "driver.get(url)\n"
   ]
  },
  {
   "cell_type": "code",
   "execution_count": null,
   "id": "aaeb68ab",
   "metadata": {},
   "outputs": [],
   "source": [
    "all_reviews_button = WebDriverWait(driver, 10).until(EC.element_to_be_clickable((By.XPATH, \"//div[@class='_3UAT2v _16PBlm']\")))\n",
    "all_reviews_button.click()\n"
   ]
  },
  {
   "cell_type": "code",
   "execution_count": null,
   "id": "3ebf3913",
   "metadata": {},
   "outputs": [],
   "source": [
    "for i in range(10):  # Scroll 10 times to load more reviews\n",
    "    driver.execute_script(\"window.scrollTo(0, document.body.scrollHeight);\")\n",
    "     driver.implicitly_wait(2)\n"
   ]
  },
  {
   "cell_type": "code",
   "execution_count": null,
   "id": "661322ea",
   "metadata": {},
   "outputs": [],
   "source": [
    "reviews = []\n",
    "\n",
    "review_elements = driver.find_elements(By.CLASS_NAME, \"_27M-vq\")\n",
    "\n",
    "for review_element in review_elements:\n",
    "    review = review_element.text.strip()\n",
    "    reviews.append(review)\n"
   ]
  },
  {
   "cell_type": "code",
   "execution_count": null,
   "id": "ab27b8b4",
   "metadata": {},
   "outputs": [],
   "source": [
    "df = pd.DataFrame(reviews, columns=['Review'])\n",
    "df.head()\n"
   ]
  },
  {
   "cell_type": "code",
   "execution_count": null,
   "id": "3721b01d",
   "metadata": {},
   "outputs": [],
   "source": [
    "driver.quit()\n"
   ]
  }
 ],
 "metadata": {
  "kernelspec": {
   "display_name": "Python 3 (ipykernel)",
   "language": "python",
   "name": "python3"
  },
  "language_info": {
   "codemirror_mode": {
    "name": "ipython",
    "version": 3
   },
   "file_extension": ".py",
   "mimetype": "text/x-python",
   "name": "python",
   "nbconvert_exporter": "python",
   "pygments_lexer": "ipython3",
   "version": "3.11.3"
  }
 },
 "nbformat": 4,
 "nbformat_minor": 5
}
