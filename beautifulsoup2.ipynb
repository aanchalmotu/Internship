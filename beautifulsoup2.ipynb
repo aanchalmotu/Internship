{
 "cells": [
  {
   "cell_type": "raw",
   "id": "81bc3778",
   "metadata": {},
   "source": [
    "# Q1-Please visit https://www.cnbc.com/world/?region=world and scrap-\n",
    "\n",
    "a) headings\n",
    "\n",
    "b) date\n",
    "\n",
    "c) News link"
   ]
  },
  {
   "cell_type": "code",
   "execution_count": null,
   "id": "ea9e177d",
   "metadata": {},
   "outputs": [],
   "source": [
    "import requests\n",
    "from bs4 import BeautifulSoup\n",
    "import pandas as pd\n",
    "\n",
    " url = \"https://www.cnbc.com/world/?region=world\"\n",
    "    response = requests.get(url)\n",
    "soup = BeautifulSoup(response.text, 'html.parser')\n",
    "\n",
    "   headlines = [headline.text.strip() for headline in soup.select('.Card-titleLink')]\n",
    "  times = [time.get('data-time') for time in soup.select('time')]\n",
    " links = [\"https://www.cnbc.com\" + link.get('href') for link in soup.select('.Card-titleLink')]\n",
    "\n",
    "data = {\n",
    "    'Headline': headlines,\n",
    "    'Time': times,\n",
    "    'News Link': links\n",
    "}\n",
    "df = pd.DataFrame(data)\n",
    "print(df)\n"
   ]
  },
  {
   "cell_type": "raw",
   "id": "1a17f6a8",
   "metadata": {},
   "source": [
    " #Q2-Please visit https://www.keaipublishing.com/en/journals/artificial-intelligence-in-agriculture/most-downloaded-articles/ and scrap-\n",
    "\n",
    "a) Paper title\n",
    "\n",
    "b) date\n",
    "\n",
    "c) Author"
   ]
  },
  {
   "cell_type": "code",
   "execution_count": null,
   "id": "b20cdc16",
   "metadata": {},
   "outputs": [],
   "source": [
    " import requests\n",
    " from bs4 import BeautifulSoup\n",
    "import pandas as pd\n",
    "\n",
    "url = \"https://www.keaipublishing.com/en/journals/artificial-intelligence-in-agriculture/most-downloaded-articles/\"\n",
    "response = requests.get(url)\n",
    "soup = BeautifulSoup(response.text, 'html.parser')\n",
    "data = {\n",
    "    'Paper Title': [title.text.strip() for title in soup.select('.result-content .title')],\n",
    "    'Date':  [date.text.strip() for date in soup.select('.result-content .publish-date')],\n",
    "    'Author':  [author.text.strip() for author in soup.select('.result-content .authors')]\n",
    "}\n",
    "\n",
    "  df = pd.DataFrame(data)\n",
    "   print(df)\n"
   ]
  }
 ],
 "metadata": {
  "kernelspec": {
   "display_name": "Python 3 (ipykernel)",
   "language": "python",
   "name": "python3"
  },
  "language_info": {
   "codemirror_mode": {
    "name": "ipython",
    "version": 3
   },
   "file_extension": ".py",
   "mimetype": "text/x-python",
   "name": "python",
   "nbconvert_exporter": "python",
   "pygments_lexer": "ipython3",
   "version": "3.11.3"
  }
 },
 "nbformat": 4,
 "nbformat_minor": 5
}
