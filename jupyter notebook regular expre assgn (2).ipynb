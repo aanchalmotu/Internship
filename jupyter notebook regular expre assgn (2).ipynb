{
 "cells": [
  {
   "cell_type": "raw",
   "id": "7e984696",
   "metadata": {},
   "source": [
    "Question 1- Write a Python program to replace all occurrences of a space, comma, or dot with a colon.\n",
    "Sample Text- 'Python Exercises, PHP exercises.'\n",
    "Expected Output: Python:Exercises::PHP:exercises:"
   ]
  },
  {
   "cell_type": "code",
   "execution_count": null,
   "id": "933bc6a8",
   "metadata": {},
   "outputs": [],
   "source": [
    "import re"
   ]
  },
  {
   "cell_type": "code",
   "execution_count": null,
   "id": "11faecfd",
   "metadata": {},
   "outputs": [],
   "source": [
    "text='Python Exercises, PHP exercises.'"
   ]
  },
  {
   "cell_type": "code",
   "execution_count": 6,
   "id": "82b13fd9",
   "metadata": {},
   "outputs": [
    {
     "name": "stdout",
     "output_type": "stream",
     "text": [
      "Python Exercises: PHP exercises:\n"
     ]
    }
   ],
   "source": [
    "print(re.sub(\"[,.]\",\":\",text))"
   ]
  },
  {
   "cell_type": "raw",
   "id": "816201dd",
   "metadata": {},
   "source": [
    "Question 2-  Create a dataframe using the dictionary below and remove everything (commas (,), !, XXXX, ;, etc.) from the columns except words.\n",
    "Dictionary- {'SUMMARY' : ['hello, world!', 'XXXXX test', '123four, five:; six...']}\n",
    "Expected output-\n",
    "0      hello world\n",
    "1             test\n",
    "2    four five six"
   ]
  },
  {
   "cell_type": "code",
   "execution_count": 13,
   "id": "9bbcde3c",
   "metadata": {},
   "outputs": [
    {
     "name": "stdout",
     "output_type": "stream",
     "text": [
      "         SUMMARY\n",
      "0    hello world\n",
      "1     XXXXX test\n",
      "2  four five six\n"
     ]
    }
   ],
   "source": [
    "import pandas as pd\n",
    "import re\n",
    "\n",
    "data = {'SUMMARY': ['hello, world!', 'XXXXX test', '123four, five:; six...']}\n",
    "df = pd.DataFrame(data)\n",
    "\n",
    "df['SUMMARY'] = df['SUMMARY'].apply(lambda x: re.sub(r'[^a-zA-Z\\s]', '', x))\n",
    "\n",
    "print(df)\n"
   ]
  },
  {
   "cell_type": "raw",
   "id": "1c153efb",
   "metadata": {},
   "source": [
    "Question 3- Create a function in python to find all words that are at least 4 characters long in a string. The use of the re.compile() method is mandatory."
   ]
  },
  {
   "cell_type": "code",
   "execution_count": 14,
   "id": "f1eab270",
   "metadata": {},
   "outputs": [
    {
     "name": "stdout",
     "output_type": "stream",
     "text": [
      "['short', 'words', 'like', 'bird', 'also']\n"
     ]
    }
   ],
   "source": [
    "import re\n",
    "text= \"short words like cat,dog,and bird can also be fun.\"\n",
    "print(re.findall(r\"\\b\\w{4,}\\b\",text))"
   ]
  },
  {
   "cell_type": "raw",
   "id": "b31698b8",
   "metadata": {},
   "source": [
    "Question 4- Create a function in python to find all three, four, and five character words in a string. The use  the re.compile() method is mandatory."
   ]
  },
  {
   "cell_type": "code",
   "execution_count": 15,
   "id": "32be910d",
   "metadata": {},
   "outputs": [
    {
     "name": "stdout",
     "output_type": "stream",
     "text": [
      "['short', 'words', 'like', 'cat', 'dog', 'and', 'bird', 'can', 'also', 'fun']\n"
     ]
    }
   ],
   "source": [
    "import re\n",
    "text=\"short words like cat,dog,and bird can also be fun.\"\n",
    "print(re.findall(r\"\\b\\w{3,5}\\b\",text))"
   ]
  },
  {
   "cell_type": "raw",
   "id": "8582777d",
   "metadata": {},
   "source": [
    "Question 5- Create a function in Python to remove the parenthesis in a list of strings. The use of the re.compile() method is mandatory.\n",
    "Sample Text: [\"example (.com)\", \"hr@fliprobo (.com)\", \"github (.com)\", \"Hello (Data Science World)\", \"Data (Scientist)\"]\n",
    "Expected Output:\n",
    "example.com\n",
    "hr@fliprobo.com\n",
    "github.com\n",
    "Hello Data Science World\n",
    "Data Scientist"
   ]
  },
  {
   "cell_type": "code",
   "execution_count": 16,
   "id": "fea3949e",
   "metadata": {},
   "outputs": [
    {
     "name": "stdout",
     "output_type": "stream",
     "text": [
      "example .com\n",
      "hr@fliprobo .com\n",
      "github .com\n",
      "Hello Data Science World\n",
      "Data Scientist\n"
     ]
    }
   ],
   "source": [
    "def remove_parenthesis(strings):\n",
    "    return [s.replace('(', '').replace(')', '') for s in strings]\n",
    "\n",
    "sample_text = [\"example (.com)\", \"hr@fliprobo (.com)\", \"github (.com)\", \"Hello (Data Science World)\", \"Data (Scientist)\"]\n",
    "\n",
    "result = remove_parenthesis(sample_text)\n",
    "for res in result:\n",
    "    print(res)\n"
   ]
  },
  {
   "cell_type": "markdown",
   "id": "3ad21f44",
   "metadata": {},
   "source": [
    "question 6- Write a python program to remove the parenthesis area from the text stored in the text file using Regular Expression.\n",
    "Sample Text: [\"example (.com)\", \"hr@fliprobo (.com)\", \"github (.com)\", \"Hello (Data Science World)\", \"Data (Scientist)\"]\n",
    "Expected Output: [\"example\", \"hr@fliprobo\", \"github\", \"Hello\", \"Data\"]\n",
    "Note- Store given sample text in the text file and then to remove the parenthesis area from the text."
   ]
  },
  {
   "cell_type": "raw",
   "id": "f3d62221",
   "metadata": {},
   "source": [
    "Question 7- Write a regular expression in Python to split a string into uppercase letters.\n",
    "Sample text: “ImportanceOfRegularExpressionsInPython”\n",
    "Expected Output: [‘Importance’, ‘Of’, ‘Regular’, ‘Expression’, ‘In’, ‘Python’]"
   ]
  },
  {
   "cell_type": "code",
   "execution_count": 18,
   "id": "d4394b7b",
   "metadata": {},
   "outputs": [
    {
     "name": "stdout",
     "output_type": "stream",
     "text": [
      "['Importance', 'Of', 'Regular', 'Expressions', 'In', 'Python']\n"
     ]
    }
   ],
   "source": [
    "import re\n",
    "sample_text = \"ImportanceOfRegularExpressionsInPython\"\n",
    "pattern= re.compile(r'[A-Z][a-z]*')\n",
    "result=pattern.findall(sample_text)\n",
    "print(result)"
   ]
  },
  {
   "cell_type": "raw",
   "id": "a3cc594b",
   "metadata": {},
   "source": [
    "Question 8- Create a function in python to insert spaces between words starting with numbers.\n",
    "Sample Text: “RegularExpression1IsAn2ImportantTopic3InPython\"\n",
    "Expected Output: RegularExpression 1IsAn 2ImportantTopic 3InPython"
   ]
  },
  {
   "cell_type": "code",
   "execution_count": 19,
   "id": "28bbfa04",
   "metadata": {},
   "outputs": [
    {
     "name": "stdout",
     "output_type": "stream",
     "text": [
      "RegularExpression 1IsAn 2ImportantTopic 3InPython\n"
     ]
    }
   ],
   "source": [
    "import re\n",
    "def insert_spaces(text):\n",
    "    return re.sub(r'(?<=[a-zA-Z])(\\d)', r' \\1', text)\n",
    "sample_text = \"RegularExpression1IsAn2ImportantTopic3InPython\"\n",
    "result = insert_spaces(sample_text)\n",
    "print(result)\n"
   ]
  },
  {
   "cell_type": "raw",
   "id": "259ea14f",
   "metadata": {},
   "source": [
    "Question 9- Create a function in python to insert spaces between words starting with capital letters or with numbers.\n",
    "Sample Text: “RegularExpression1IsAn2ImportantTopic3InPython\"\n",
    "Expected Output:  RegularExpression 1 IsAn 2 ImportantTopic 3 InPython"
   ]
  },
  {
   "cell_type": "code",
   "execution_count": 20,
   "id": "da2a6e3e",
   "metadata": {},
   "outputs": [
    {
     "name": "stdout",
     "output_type": "stream",
     "text": [
      "Regular Expression 1 Is An 2 Important Topic 3 In Python\n"
     ]
    }
   ],
   "source": [
    "import re\n",
    "def insert_spaces(text):\n",
    "    return re.sub(r'(?<=[a-zA-Z0-9])([A-Z0-9])', r' \\1', text)\n",
    "sample_text = \"RegularExpression1IsAn2ImportantTopic3InPython\"\n",
    "result = insert_spaces(sample_text)\n",
    "print(result)\n"
   ]
  },
  {
   "cell_type": "raw",
   "id": "716f8e49",
   "metadata": {},
   "source": [
    "Question 10- Use the github link below to read the data and create a dataframe. After creating the dataframe extract the first 6 letters of each country and store in the dataframe under a new column called first_five_letters.\n",
    "Github Link-  https://raw.githubusercontent.com/dsrscientist/DSData/master/happiness_score_dataset.csv\n",
    "\n"
   ]
  },
  {
   "cell_type": "code",
   "execution_count": null,
   "id": "45c83723",
   "metadata": {},
   "outputs": [],
   "source": [
    "import pandas as pd"
   ]
  },
  {
   "cell_type": "code",
   "execution_count": null,
   "id": "fc48a5cd",
   "metadata": {},
   "outputs": [],
   "source": [
    "url=https://raw.githubusercontent.com/dsrscientist/DSData/master/happiness_score_dataset.csv"
   ]
  },
  {
   "cell_type": "code",
   "execution_count": null,
   "id": "6982634b",
   "metadata": {},
   "outputs": [],
   "source": [
    "df=pd.read_csv(url)"
   ]
  },
  {
   "cell_type": "code",
   "execution_count": null,
   "id": "5441d90a",
   "metadata": {},
   "outputs": [],
   "source": [
    "f['first_five_letters'] = df['Country'].str[:6]\n"
   ]
  },
  {
   "cell_type": "code",
   "execution_count": 21,
   "id": "782a1876",
   "metadata": {},
   "outputs": [
    {
     "name": "stdout",
     "output_type": "stream",
     "text": [
      "         SUMMARY\n",
      "0    hello world\n",
      "1     XXXXX test\n",
      "2  four five six\n"
     ]
    }
   ],
   "source": [
    "print(df.head())"
   ]
  },
  {
   "cell_type": "raw",
   "id": "5f72147c",
   "metadata": {},
   "source": [
    "Question 11- Write a Python program to match a string that contains only upper and lowercase letters, numbers, and underscores."
   ]
  },
  {
   "cell_type": "code",
   "execution_count": 26,
   "id": "61e92584",
   "metadata": {},
   "outputs": [
    {
     "name": "stdout",
     "output_type": "stream",
     "text": [
      "enter a string 5\n",
      "it's a match\n"
     ]
    }
   ],
   "source": [
    "import re\n",
    "my_string = input('enter a string ')\n",
    "m = re.search('[^0-9A-Za-z_]+', my_string)\n",
    "if m:\n",
    "    print('no match found')\n",
    "else:\n",
    "    print('it\\'s a match')"
   ]
  },
  {
   "cell_type": "raw",
   "id": "4ae6b5fd",
   "metadata": {},
   "source": [
    "Question 12- Write a Python program where a string will start with a specific number. \n"
   ]
  },
  {
   "cell_type": "code",
   "execution_count": 31,
   "id": "1f39abfa",
   "metadata": {},
   "outputs": [
    {
     "name": "stdout",
     "output_type": "stream",
     "text": [
      "True\n",
      "False\n"
     ]
    }
   ],
   "source": [
    "import re\n",
    "def match_num(string):\n",
    "    text = re.compile(r\"^7\")\n",
    "    if text.match(string):\n",
    "        return True\n",
    "    else:\n",
    "        return False\n",
    "print(match_num('7-2345671'))\n",
    "print(match_num('8-2345671'))"
   ]
  },
  {
   "cell_type": "raw",
   "id": "9326db7a",
   "metadata": {},
   "source": [
    "Question 13- Write a Python program to remove leading zeros from an IP address"
   ]
  },
  {
   "cell_type": "code",
   "execution_count": 32,
   "id": "ad3a085f",
   "metadata": {},
   "outputs": [
    {
     "name": "stdout",
     "output_type": "stream",
     "text": [
      "192.168.1.1\n"
     ]
    }
   ],
   "source": [
    "import re\n",
    "ip = \"192.168.001.001\"\n",
    "string = re.sub('\\.[0]*', '.',ip)\n",
    "print(string)"
   ]
  },
  {
   "cell_type": "raw",
   "id": "6e30df97",
   "metadata": {},
   "source": [
    "Question 14- Write a regular expression in python to match a date string in the form of Month name followed by day number and year stored in a text file.\n",
    "Sample text :  ' On August 15th 1947 that India was declared independent from British colonialism, and the reins of control were handed over to the leaders of the Country’.\n",
    "Expected Output- August 15th 1947\n",
    "Note- Store given sample text in the text file and then extract the date string asked format."
   ]
  },
  {
   "cell_type": "code",
   "execution_count": 34,
   "id": "acb9e937",
   "metadata": {},
   "outputs": [
    {
     "ename": "SyntaxError",
     "evalue": "unterminated string literal (detected at line 2) (435198256.py, line 2)",
     "output_type": "error",
     "traceback": [
      "\u001b[1;36m  Cell \u001b[1;32mIn[34], line 2\u001b[1;36m\u001b[0m\n\u001b[1;33m    text= ' On August 15th 1947 that India was declared independent from British colonialism, and the reins of control were handed over to the leaders of the Country’.\u001b[0m\n\u001b[1;37m          ^\u001b[0m\n\u001b[1;31mSyntaxError\u001b[0m\u001b[1;31m:\u001b[0m unterminated string literal (detected at line 2)\n"
     ]
    }
   ],
   "source": [
    "import re\n",
    "text= ' On August 15th 1947 that India was declared independent from British colonialism, and the reins of control were handed over to the leaders of the Country’.\n",
    "pattern = re.compile(r'([A-Za-z]+ \\d{1,2}(?:st|nd|rd|th) \\d{4})')\n",
    "\n",
    "print(result)"
   ]
  },
  {
   "cell_type": "raw",
   "id": "cdf9dcf4",
   "metadata": {},
   "source": [
    "Question 15- Write a Python program to search some literals strings in a string. \n",
    "Sample text : 'The quick brown fox jumps over the lazy dog.'\n",
    "Searched words : 'fox', 'dog', 'horse'"
   ]
  },
  {
   "cell_type": "code",
   "execution_count": 35,
   "id": "cc0133ff",
   "metadata": {},
   "outputs": [
    {
     "name": "stdout",
     "output_type": "stream",
     "text": [
      "it's a match\n"
     ]
    }
   ],
   "source": [
    "import re\n",
    "my_string = 'The quick brown fox jumps over the lazy dog.'\n",
    "m = re.search('cat|dog|fox|horse', my_string)\n",
    "if m:\n",
    "    print('it\\'s a match')\n",
    "else:\n",
    "    print('no match found')\n"
   ]
  },
  {
   "cell_type": "raw",
   "id": "f091b44d",
   "metadata": {},
   "source": [
    "question 16- Write a Python program to search a literals string in a string and also find the location within the original string where the pattern occurs\n",
    "Sample text : 'The quick brown fox jumps over the lazy dog.'\n",
    "Searched words : 'fox'"
   ]
  },
  {
   "cell_type": "code",
   "execution_count": 39,
   "id": "935afb46",
   "metadata": {},
   "outputs": [
    {
     "name": "stdout",
     "output_type": "stream",
     "text": [
      "it's a match, starts on 15\n"
     ]
    }
   ],
   "source": [
    "import re\n",
    "my_string = 'The quick brown fox jumps over the lazy dog.'\n",
    "m = re.search('\\Wfox\\W', my_string)\n",
    "if m:\n",
    "    print('it\\'s a match, starts on', m.start())\n",
    "else:\n",
    "    print('no match found')"
   ]
  },
  {
   "cell_type": "raw",
   "id": "51298cf1",
   "metadata": {},
   "source": [
    "Question 17- Write a Python program to find the substrings within a string.\n",
    "Sample text : 'Python exercises, PHP exercises, C# exercises'\n",
    "Pattern : 'exercises'."
   ]
  },
  {
   "cell_type": "code",
   "execution_count": 41,
   "id": "2f32548d",
   "metadata": {},
   "outputs": [
    {
     "name": "stdout",
     "output_type": "stream",
     "text": [
      "Found \"exercises\"\n",
      "Found \"exercises\"\n",
      "Found \"exercises\"\n"
     ]
    }
   ],
   "source": [
    "import re\n",
    "text = 'Python exercises, PHP exercises, C# exercises'\n",
    "pattern = 'exercises'\n",
    "for match in re.findall(pattern, text):\n",
    "    print('Found \"%s\"' % match)"
   ]
  },
  {
   "cell_type": "raw",
   "id": "f899c719",
   "metadata": {},
   "source": [
    "Question 18- Write a Python program to find the occurrence and position of the substrings within a string."
   ]
  },
  {
   "cell_type": "code",
   "execution_count": 42,
   "id": "a7baceb7",
   "metadata": {},
   "outputs": [
    {
     "name": "stdout",
     "output_type": "stream",
     "text": [
      "string 'exercises' found at position (7, 16)\n",
      "string 'exercises' found at position (22, 31)\n",
      "string 'exercises' found at position (36, 45)\n"
     ]
    }
   ],
   "source": [
    "import re\n",
    "my_string = 'Python exercises, PHP exercises, C# exercises'\n",
    "my_substring = 'exercises'\n",
    "m = re.finditer(my_substring, my_string)\n",
    "for match in m:\n",
    "    print('string \\'{}\\''.format(my_substring), 'found at position', match.span())\n"
   ]
  },
  {
   "cell_type": "raw",
   "id": "86bc30cf",
   "metadata": {},
   "source": [
    "Question 19- Write a Python program to convert a date of yyyy-mm-dd format to dd-mm-yyyy format."
   ]
  },
  {
   "cell_type": "code",
   "execution_count": 2,
   "id": "190084ca",
   "metadata": {},
   "outputs": [],
   "source": [
    "import re\n",
    "date = '2023-03-31'\n",
    "m=re.split('.', date\n",
    "new_date = '.'join(m[::-1])\n",
    "print(new_date)\n",
    "           "
   ]
  },
  {
   "cell_type": "raw",
   "id": "76b7124d",
   "metadata": {},
   "source": [
    "Question 20- Create a function in python to find all decimal numbers with a precision of 1 or 2 in a string. The use of the re.compile() method is mandatory.\n",
    "Sample Text: \"01.12 0132.123 2.31875 145.8 3.01 27.25 0.25\"\n",
    "Expected Output: ['01.12', '145.8', '3.01', '27.25', '0.25']"
   ]
  },
  {
   "cell_type": "code",
   "execution_count": 1,
   "id": "39c46ff4",
   "metadata": {},
   "outputs": [
    {
     "name": "stdout",
     "output_type": "stream",
     "text": [
      "['01.12', '145.8', '3.01', '27.25', '0.25']\n"
     ]
    }
   ],
   "source": [
    "import re\n",
    "\n",
    "def find_decimal_numbers(text):\n",
    "    pattern = re.compile(r'\\b\\d+\\.\\d{1,2}\\b')\n",
    "    result = pattern.findall(text)\n",
    "    return result\n",
    "sample_text = \"01.12 0132.123 2.31875 145.8 3.01 27.25 0.25\"\n",
    "output = find_decimal_numbers(sample_text)\n",
    "print(output)\n"
   ]
  },
  {
   "cell_type": "raw",
   "id": "531b3f70",
   "metadata": {},
   "source": [
    "Question 21- Write a Python program to separate and print the numbers and their position of a given string."
   ]
  },
  {
   "cell_type": "code",
   "execution_count": 4,
   "id": "e1f104e0",
   "metadata": {},
   "outputs": [
    {
     "name": "stdout",
     "output_type": "stream",
     "text": [
      "Number: 123, Position: (6, 9)\n",
      "Number: 45, Position: (30, 32)\n",
      "Number: 67, Position: (33, 35)\n",
      "Number: 89, Position: (40, 42)\n",
      "Number: 12, Position: (43, 45)\n"
     ]
    }
   ],
   "source": [
    "import re\n",
    "def separate_and_print_numbers(input_string):\n",
    "    pattern = re.compile(r'\\b\\d+\\b')\n",
    "    matches = pattern.finditer(input_string)\n",
    "    for match in matches:\n",
    "        number = match.group()\n",
    "        position = match.span()\n",
    "        print(f\"Number: {number}, Position: {position}\")\n",
    "input_string = \"Hello 123 world! The value is 45.67 and 89.12\"\n",
    "separate_and_print_numbers(input_string)\n"
   ]
  },
  {
   "cell_type": "raw",
   "id": "1744c196",
   "metadata": {},
   "source": [
    "Question 22- Write a regular expression in python program to extract maximum/largest numeric value from a string.\n",
    "Sample Text:  'My marks in each semester are: 947, 896, 926, 524, 734, 950, 642'\n",
    "Expected Output: 950"
   ]
  },
  {
   "cell_type": "code",
   "execution_count": 8,
   "id": "d4d7d99d",
   "metadata": {},
   "outputs": [
    {
     "name": "stdout",
     "output_type": "stream",
     "text": [
      "950\n"
     ]
    }
   ],
   "source": [
    "import re\n",
    "\n",
    "def extract_max_numeric_value(input_string):\n",
    "    numeric_values = re.findall(r'\\b\\d+\\b', input_string)\n",
    "    \n",
    "    max_value = max(map(int, numeric_values), default=None)\n",
    "\n",
    "    return max_value\n",
    "sample_text = 'My marks in each semester are: 947, 896, 926, 524, 734, 950, 642'\n",
    "result = extract_max_numeric_value(sample_text)\n",
    "\n",
    "print(result)\n"
   ]
  },
  {
   "cell_type": "raw",
   "id": "ff340e57",
   "metadata": {},
   "source": [
    "Question 23- Create a function in python to insert spaces between words starting with capital letters.\n",
    "Sample Text: “RegularExpressionIsAnImportantTopicInPython\"\n",
    "Expected Output: Regular Expression Is An Important Topic In Python"
   ]
  },
  {
   "cell_type": "code",
   "execution_count": 9,
   "id": "ec053934",
   "metadata": {},
   "outputs": [
    {
     "name": "stdout",
     "output_type": "stream",
     "text": [
      "Regular expression is an important topic in python\n"
     ]
    }
   ],
   "source": [
    "import re\n",
    "\n",
    "def insert_spaces_between_capitals(input_text):\n",
    "    result_text = re.sub(r'([a-z])([A-Z])', r'\\1 \\2', input_text)\n",
    "    \n",
    "    result_text = result_text.capitalize()\n",
    "\n",
    "    return result_text\n",
    "\n",
    "sample_text = \"RegularExpressionIsAnImportantTopicInPython\"\n",
    "\n",
    "output = insert_spaces_between_capitals(sample_text)\n",
    "\n",
    "print(output)\n"
   ]
  },
  {
   "cell_type": "raw",
   "id": "f82dd04f",
   "metadata": {},
   "source": [
    "Question 24- Python regex to find sequences of one upper case letter followed by lower case letters\n"
   ]
  },
  {
   "cell_type": "code",
   "execution_count": 12,
   "id": "32a53ce5",
   "metadata": {},
   "outputs": [
    {
     "name": "stdout",
     "output_type": "stream",
     "text": [
      "['This', 'Sample', 'Text', 'Multiple', 'Matches']\n"
     ]
    }
   ],
   "source": [
    "import re\n",
    "\n",
    "pattern = r'[A-Z][a-z]+'\n",
    "text = \"This is a Sample Text with Multiple Matches\"\n",
    "\n",
    "matches = re.findall(pattern, text)\n",
    "print(matches)"
   ]
  },
  {
   "cell_type": "raw",
   "id": "221103e4",
   "metadata": {},
   "source": [
    "Question 25- Write a Python program to remove continuous duplicate words from Sentence using Regular Expression.\n",
    "Sample Text: \"Hello hello world world\"\n",
    "Expected Output: Hello hello world\n"
   ]
  },
  {
   "cell_type": "code",
   "execution_count": 15,
   "id": "ecd1dafd",
   "metadata": {},
   "outputs": [
    {
     "name": "stdout",
     "output_type": "stream",
     "text": [
      "Hello hello world\n"
     ]
    }
   ],
   "source": [
    "import re\n",
    "\n",
    "def remove_continuous_duplicates(input_text):\n",
    "    result_text = re.sub(r'\\b(\\w+)( \\1\\b)+', r'\\1', input_text)\n",
    "\n",
    "    return result_text\n",
    "sample_text = \"Hello hello world world\"\n",
    "output = remove_continuous_duplicates(sample_text)\n",
    "print(output)\n"
   ]
  },
  {
   "cell_type": "raw",
   "id": "a6198ea2",
   "metadata": {},
   "source": [
    "Question 26-  Write a python program using RegEx to accept string ending with alphanumeric character."
   ]
  },
  {
   "cell_type": "code",
   "execution_count": 16,
   "id": "b0ac116d",
   "metadata": {},
   "outputs": [
    {
     "name": "stdout",
     "output_type": "stream",
     "text": [
      "True\n",
      "False\n",
      "True\n"
     ]
    }
   ],
   "source": [
    "import re\n",
    "\n",
    "def ends_with_alphanumeric(input_string):\n",
    "    pattern = re.compile(r'\\w$')\n",
    "    result = pattern.search(input_string)\n",
    "\n",
    "    return result is not None\n",
    "input_string1 = \"Hello123\"\n",
    "input_string2 = \"Python!\"\n",
    "input_string3 = \"12345\"\n",
    "print(ends_with_alphanumeric(input_string1))  # True\n",
    "print(ends_with_alphanumeric(input_string2))  # False\n",
    "print(ends_with_alphanumeric(input_string3))  # True\n"
   ]
  },
  {
   "cell_type": "raw",
   "id": "6df1edfd",
   "metadata": {},
   "source": [
    "Question 27-Write a python program using RegEx to extract the hashtags.\n",
    "Sample Text:  \"\"\"RT @kapil_kausik: #Doltiwal I mean #xyzabc is \"hurt\" by #Demonetization as the same has rendered USELESS <ed><U+00A0><U+00BD><ed><U+00B1><U+0089> \"acquired funds\" No wo\"\"\"\n",
    "Expected Output: ['#Doltiwal', '#xyzabc', '#Demonetization']"
   ]
  },
  {
   "cell_type": "code",
   "execution_count": 17,
   "id": "58f530e2",
   "metadata": {},
   "outputs": [
    {
     "name": "stdout",
     "output_type": "stream",
     "text": [
      "['#Doltiwal', '#xyzabc', '#Demonetization']\n"
     ]
    }
   ],
   "source": [
    "import re\n",
    "\n",
    "def extract_hashtags(input_text):\n",
    "    hashtags = re.findall(r'#\\w+', input_text)\n",
    "    return hashtags\n",
    "sample_text = \"\"\"RT @kapil_kausik: #Doltiwal I mean #xyzabc is \"hurt\" by #Demonetization as the same has rendered USELESS <ed><U+00A0><U+00BD><ed><U+00B1><U+0089> \"acquired funds\" No wo\"\"\"\n",
    "output = extract_hashtags(sample_text)\n",
    "print(output)\n"
   ]
  },
  {
   "cell_type": "raw",
   "id": "1e54d58f",
   "metadata": {},
   "source": [
    "Question 28- Write a python program using RegEx to remove <U+..> like symbols\n",
    "Check the below sample text, there are strange symbols something of the sort <U+..> all over the place. You need to come up with a general Regex expression that will cover all such symbols.\n",
    "Sample Text: \"@Jags123456 Bharat band on 28??<ed><U+00A0><U+00BD><ed><U+00B8><U+0082>Those who  are protesting #demonetization  are all different party leaders\"\n",
    "Expected Output: @Jags123456 Bharat band on 28??<ed><ed>Those who  are protesting #demonetization  are all different party leaders"
   ]
  },
  {
   "cell_type": "code",
   "execution_count": 18,
   "id": "ca6be80b",
   "metadata": {},
   "outputs": [
    {
     "name": "stdout",
     "output_type": "stream",
     "text": [
      "@Jags123456 Bharat band on 28??<ed><ed>Those who  are protesting #demonetization  are all different party leaders\n"
     ]
    }
   ],
   "source": [
    "import re\n",
    "sample_text = \"@Jags123456 Bharat band on 28??<ed><U+00A0><U+00BD><ed><U+00B8><U+0082>Those who  are protesting #demonetization  are all different party leaders\"\n",
    "pattern = r\"<U\\+\\w{4}>\"\n",
    "output_text = re.sub(pattern,\"\", sample_text)\n",
    "print(output_text)"
   ]
  },
  {
   "cell_type": "raw",
   "id": "5a30ffa6",
   "metadata": {},
   "source": [
    "Question 29- Write a python program to extract dates from the text stored in the text file.\n",
    "Sample Text: Ron was born on 12-09-1992 and he was admitted to school 15-12-1999.\n",
    "Note- Store this sample text in the file and then extract dates."
   ]
  },
  {
   "cell_type": "code",
   "execution_count": 20,
   "id": "b83da37a",
   "metadata": {},
   "outputs": [
    {
     "ename": "SyntaxError",
     "evalue": "'(' was never closed (150060498.py, line 6)",
     "output_type": "error",
     "traceback": [
      "\u001b[1;36m  Cell \u001b[1;32mIn[20], line 6\u001b[1;36m\u001b[0m\n\u001b[1;33m    dates = re.findall(pattern, text\u001b[0m\n\u001b[1;37m                      ^\u001b[0m\n\u001b[1;31mSyntaxError\u001b[0m\u001b[1;31m:\u001b[0m '(' was never closed\n"
     ]
    }
   ],
   "source": [
    "import re\n",
    "with open('filename.txt', 'r') as file:\n",
    "  text = file.read()\n",
    "pattern = r'\\d{2}-\\d{2}-\\d{4}'\n",
    "\n",
    "dates = re.findall(pattern, text\n",
    "\n",
    "for date in dates:\n",
    "  print(date)"
   ]
  },
  {
   "cell_type": "code",
   "execution_count": 21,
   "id": "8d41d3bf",
   "metadata": {},
   "outputs": [
    {
     "ename": "SyntaxError",
     "evalue": "'(' was never closed (1589011447.py, line 5)",
     "output_type": "error",
     "traceback": [
      "\u001b[1;36m  Cell \u001b[1;32mIn[21], line 5\u001b[1;36m\u001b[0m\n\u001b[1;33m    dates = re.findall(pattern, tex\u001b[0m\n\u001b[1;37m                      ^\u001b[0m\n\u001b[1;31mSyntaxError\u001b[0m\u001b[1;31m:\u001b[0m '(' was never closed\n"
     ]
    }
   ],
   "source": [
    "import re\n",
    "with open('filename.txt', 'r') as file:\n",
    "  text = file.read()\n",
    "pattern = r'\\d{2}-\\d{2}-\\d{4}'\n",
    "dates = re.findall(pattern, tex\n",
    "for date in dates:\n",
    "  print(date)"
   ]
  },
  {
   "cell_type": "raw",
   "id": "f5a6f6d2",
   "metadata": {},
   "source": [
    "Question 30- Create a function in python to remove all words from a string of length between 2 and 4.\n",
    "The use of the re.compile() method is mandatory.\n",
    "Sample Text: \"The following example creates an ArrayList with a capacity of 50 elements. 4 elements are then added to the ArrayList and the ArrayList is trimmed accordingly.\"\n",
    "Expected Output:  following example creates ArrayList a capacity elements. 4 elements added ArrayList ArrayList trimmed accordingly.\n"
   ]
  },
  {
   "cell_type": "code",
   "execution_count": 23,
   "id": "bd8ae720",
   "metadata": {},
   "outputs": [
    {
     "name": "stdout",
     "output_type": "stream",
     "text": [
      "False\n"
     ]
    }
   ],
   "source": [
    "import re\n",
    "\n",
    "def remove_words(string):\n",
    "  pattern = re.compile(r'\\b\\w{2,4}\\b')\n",
    "  modified_string = re.sub(pattern, '', string)\n",
    "  return modified_string\n",
    "sample_text = \"The following example creates an ArrayList with a capacity of 50 elements. 4 elements are then added to the ArrayList and the ArrayList is trimmed accordingly.\"\n",
    "expected_output = \"following example creates ArrayList a capacity elements. 4 elements added ArrayList ArrayList trimmed accordingly.\"\n",
    "\n",
    "result = remove_words(sample_text)\n",
    "print(result == expected_output)  # True"
   ]
  },
  {
   "cell_type": "code",
   "execution_count": null,
   "id": "4cb42146",
   "metadata": {},
   "outputs": [],
   "source": []
  }
 ],
 "metadata": {
  "kernelspec": {
   "display_name": "Python 3 (ipykernel)",
   "language": "python",
   "name": "python3"
  },
  "language_info": {
   "codemirror_mode": {
    "name": "ipython",
    "version": 3
   },
   "file_extension": ".py",
   "mimetype": "text/x-python",
   "name": "python",
   "nbconvert_exporter": "python",
   "pygments_lexer": "ipython3",
   "version": "3.11.3"
  }
 },
 "nbformat": 4,
 "nbformat_minor": 5
}
